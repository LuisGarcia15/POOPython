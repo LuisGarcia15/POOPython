{
  "nbformat": 4,
  "nbformat_minor": 0,
  "metadata": {
    "colab": {
      "provenance": []
    },
    "kernelspec": {
      "name": "python3",
      "display_name": "Python 3"
    },
    "language_info": {
      "name": "python"
    }
  },
  "cells": [
    {
      "cell_type": "code",
      "execution_count": null,
      "metadata": {
        "id": "DfJvgGAb8eMl"
      },
      "outputs": [],
      "source": [
        "alumno = {'numero de cuenta':123123, 'carrera':'ICO',\n",
        "          'direccion' : {'calle': 'rancho seco', 'numero' : 23},\n",
        "          'telefonos' : ['5569482450', '559382653092']\n",
        "          }"
      ]
    },
    {
      "cell_type": "code",
      "source": [
        "print(alumno['direccion']['calle'][3:6:1])\n",
        "print(alumno['telefonos'])\n",
        "print(alumno)\n",
        "alumno['facultad'] = \"Fes Aragón\"\n",
        "print(alumno)"
      ],
      "metadata": {
        "colab": {
          "base_uri": "https://localhost:8080/"
        },
        "id": "FbzvSrWT9Co7",
        "outputId": "addf6b0e-0741-4a6b-ad7f-abf954f49a06"
      },
      "execution_count": null,
      "outputs": [
        {
          "output_type": "stream",
          "name": "stdout",
          "text": [
            "cho\n",
            "['5569482450', '559382653092']\n",
            "{'numero de cuenta': 123123, 'carrera': 'ICO, ¿Hay otra?', 'direccion': {'calle': 'rancho seco', 'numero': 23}, 'telefonos': ['5569482450', '559382653092']}\n",
            "{'numero de cuenta': 123123, 'carrera': 'ICO, ¿Hay otra?', 'direccion': {'calle': 'rancho seco', 'numero': 23}, 'telefonos': ['5569482450', '559382653092'], 'facultad': 'Fes Aragón'}\n"
          ]
        }
      ]
    },
    {
      "cell_type": "code",
      "source": [
        "#if\n",
        "edad = 20\n",
        "if edad >= 18:\n",
        "    print(\"Eres mayor de edad.\")\n",
        "    print(21)\n",
        "    print(12)"
      ],
      "metadata": {
        "colab": {
          "base_uri": "https://localhost:8080/"
        },
        "id": "ANcX9fi9_A8v",
        "outputId": "0a0472cd-04b3-4f20-db96-413cb7d1c1e5"
      },
      "execution_count": null,
      "outputs": [
        {
          "output_type": "stream",
          "name": "stdout",
          "text": [
            "Eres mayor de edad.\n",
            "21\n",
            "12\n"
          ]
        }
      ]
    },
    {
      "cell_type": "code",
      "source": [
        "edad = 15\n",
        "if edad >= 18:\n",
        "    print(\"Eres mayor de edad.\")\n",
        "else:\n",
        "    print(\"Eres menor de edad.\")"
      ],
      "metadata": {
        "colab": {
          "base_uri": "https://localhost:8080/"
        },
        "id": "-hQ8tE65_FUL",
        "outputId": "c16d6f14-9249-45f2-eb0d-3b3c503ab957"
      },
      "execution_count": null,
      "outputs": [
        {
          "output_type": "stream",
          "name": "stdout",
          "text": [
            "Eres menor de edad.\n"
          ]
        }
      ]
    },
    {
      "cell_type": "code",
      "source": [
        "# if- elif - else\n",
        "edad = 20\n",
        "if edad < 13:\n",
        "    print(\"Eres un niño.\")\n",
        "elif edad < 18:\n",
        "    print(\"Eres un adolescente.\")\n",
        "else:\n",
        "    print(\"Eres un adulto.\")"
      ],
      "metadata": {
        "colab": {
          "base_uri": "https://localhost:8080/"
        },
        "id": "J_9ubvez_094",
        "outputId": "2e5618c2-7d48-4746-dc2f-8e584802435e"
      },
      "execution_count": null,
      "outputs": [
        {
          "output_type": "stream",
          "name": "stdout",
          "text": [
            "Eres un adulto.\n"
          ]
        }
      ]
    },
    {
      "cell_type": "code",
      "source": [
        "edad = 20\n",
        "if edad < 13:\n",
        "    print(\"Eres un niño.\")\n",
        "elif edad < 18:\n",
        "    print(\"Eres un adolescente.\")\n",
        "elif edad < 30:\n",
        "    print(\"Eres un joven adulto.\")"
      ],
      "metadata": {
        "colab": {
          "base_uri": "https://localhost:8080/"
        },
        "id": "fisGDMwlAU0b",
        "outputId": "a2620b7a-e6f3-4bbd-ca70-69592db0c3b8"
      },
      "execution_count": null,
      "outputs": [
        {
          "output_type": "stream",
          "name": "stdout",
          "text": [
            "Eres un joven adulto.\n"
          ]
        }
      ]
    },
    {
      "cell_type": "code",
      "source": [
        "for i in range(1, 10, 1):\n",
        "    #Rango de 1 a 9, incrementando de uno en uno\n",
        "    print(i)"
      ],
      "metadata": {
        "colab": {
          "base_uri": "https://localhost:8080/"
        },
        "id": "yINm_sxjBYqh",
        "outputId": "a6d5aef7-ca0a-4b62-bb59-36b8d02e890b"
      },
      "execution_count": null,
      "outputs": [
        {
          "output_type": "stream",
          "name": "stdout",
          "text": [
            "1\n",
            "2\n",
            "3\n",
            "4\n",
            "5\n",
            "6\n",
            "7\n",
            "8\n",
            "9\n"
          ]
        }
      ]
    },
    {
      "cell_type": "markdown",
      "source": [],
      "metadata": {
        "id": "gSgbeE5FBYkw"
      }
    },
    {
      "cell_type": "code",
      "source": [
        "frutas = ['piña', 'pera', 'manzana', 'fresa', 'aguacate']\n",
        "for numero in frutas:\n",
        "    print(numero)"
      ],
      "metadata": {
        "colab": {
          "base_uri": "https://localhost:8080/"
        },
        "id": "pZYobr3ACi4e",
        "outputId": "dc62c77a-22b2-45d2-a704-07faed192c19"
      },
      "execution_count": null,
      "outputs": [
        {
          "output_type": "stream",
          "name": "stdout",
          "text": [
            "piña\n",
            "pera\n",
            "manzana\n",
            "fresa\n",
            "aguacate\n"
          ]
        }
      ]
    },
    {
      "cell_type": "code",
      "source": [
        "print('---------------')\n",
        "for numero in frutas:\n",
        "    if numero == \"manzana\":\n",
        "        continue   # ó continue\n",
        "    print(numero)  # imprime la fruta\n",
        "print('Fin')"
      ],
      "metadata": {
        "colab": {
          "base_uri": "https://localhost:8080/"
        },
        "id": "KY-OsHEaC7ik",
        "outputId": "c061b552-779c-47d2-ab38-fee460c48246"
      },
      "execution_count": null,
      "outputs": [
        {
          "output_type": "stream",
          "name": "stdout",
          "text": [
            "---------------\n",
            "piña\n",
            "pera\n",
            "fresa\n",
            "aguacate\n",
            "Fin\n"
          ]
        }
      ]
    },
    {
      "cell_type": "code",
      "source": [
        "tamanio = 0\n",
        "while tamanio < 10:\n",
        "  print(tamanio)\n",
        "  tamanio = int(input(\"Ingresa un número: \"))\n",
        "print('Final')"
      ],
      "metadata": {
        "colab": {
          "base_uri": "https://localhost:8080/"
        },
        "id": "UtVD5-rLDf1u",
        "outputId": "67d84fd0-3342-4d56-9e82-e6b739777fbe"
      },
      "execution_count": null,
      "outputs": [
        {
          "output_type": "stream",
          "name": "stdout",
          "text": [
            "0\n",
            "Ingresa un número: 2\n",
            "2\n",
            "Ingresa un número: 3\n",
            "3\n",
            "Ingresa un número: 5\n",
            "5\n",
            "Ingresa un número: 1\n",
            "1\n",
            "Ingresa un número: 4\n",
            "4\n",
            "Ingresa un número: 6\n",
            "6\n",
            "Ingresa un número: 4\n",
            "4\n",
            "Ingresa un número: 6\n",
            "6\n",
            "Ingresa un número: 11\n",
            "Final\n"
          ]
        }
      ]
    }
  ]
}